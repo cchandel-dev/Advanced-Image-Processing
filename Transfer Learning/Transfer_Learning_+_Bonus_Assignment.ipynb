{
  "cells": [
    {
      "cell_type": "code",
      "execution_count": 1,
      "metadata": {
        "colab": {
          "base_uri": "https://localhost:8080/"
        },
        "id": "0yz6hDRP8hBL",
        "outputId": "caf39592-0610-4da1-a88f-21bc434335f9"
      },
      "outputs": [
        {
          "output_type": "stream",
          "name": "stdout",
          "text": [
            "Looking in indexes: https://pypi.org/simple, https://us-python.pkg.dev/colab-wheels/public/simple/\n",
            "Requirement already satisfied: tensorflow in /usr/local/lib/python3.9/dist-packages (2.11.0)\n",
            "Requirement already satisfied: grpcio<2.0,>=1.24.3 in /usr/local/lib/python3.9/dist-packages (from tensorflow) (1.51.3)\n",
            "Requirement already satisfied: packaging in /usr/local/lib/python3.9/dist-packages (from tensorflow) (23.0)\n",
            "Requirement already satisfied: protobuf<3.20,>=3.9.2 in /usr/local/lib/python3.9/dist-packages (from tensorflow) (3.19.6)\n",
            "Requirement already satisfied: gast<=0.4.0,>=0.2.1 in /usr/local/lib/python3.9/dist-packages (from tensorflow) (0.4.0)\n",
            "Requirement already satisfied: astunparse>=1.6.0 in /usr/local/lib/python3.9/dist-packages (from tensorflow) (1.6.3)\n",
            "Requirement already satisfied: tensorflow-estimator<2.12,>=2.11.0 in /usr/local/lib/python3.9/dist-packages (from tensorflow) (2.11.0)\n",
            "Requirement already satisfied: tensorboard<2.12,>=2.11 in /usr/local/lib/python3.9/dist-packages (from tensorflow) (2.11.2)\n",
            "Requirement already satisfied: opt-einsum>=2.3.2 in /usr/local/lib/python3.9/dist-packages (from tensorflow) (3.3.0)\n",
            "Requirement already satisfied: wrapt>=1.11.0 in /usr/local/lib/python3.9/dist-packages (from tensorflow) (1.15.0)\n",
            "Requirement already satisfied: numpy>=1.20 in /usr/local/lib/python3.9/dist-packages (from tensorflow) (1.22.4)\n",
            "Requirement already satisfied: typing-extensions>=3.6.6 in /usr/local/lib/python3.9/dist-packages (from tensorflow) (4.5.0)\n",
            "Requirement already satisfied: libclang>=13.0.0 in /usr/local/lib/python3.9/dist-packages (from tensorflow) (15.0.6.1)\n",
            "Requirement already satisfied: tensorflow-io-gcs-filesystem>=0.23.1 in /usr/local/lib/python3.9/dist-packages (from tensorflow) (0.31.0)\n",
            "Requirement already satisfied: setuptools in /usr/local/lib/python3.9/dist-packages (from tensorflow) (63.4.3)\n",
            "Requirement already satisfied: absl-py>=1.0.0 in /usr/local/lib/python3.9/dist-packages (from tensorflow) (1.4.0)\n",
            "Requirement already satisfied: keras<2.12,>=2.11.0 in /usr/local/lib/python3.9/dist-packages (from tensorflow) (2.11.0)\n",
            "Requirement already satisfied: google-pasta>=0.1.1 in /usr/local/lib/python3.9/dist-packages (from tensorflow) (0.2.0)\n",
            "Requirement already satisfied: h5py>=2.9.0 in /usr/local/lib/python3.9/dist-packages (from tensorflow) (3.8.0)\n",
            "Requirement already satisfied: flatbuffers>=2.0 in /usr/local/lib/python3.9/dist-packages (from tensorflow) (23.3.3)\n",
            "Requirement already satisfied: termcolor>=1.1.0 in /usr/local/lib/python3.9/dist-packages (from tensorflow) (2.2.0)\n",
            "Requirement already satisfied: six>=1.12.0 in /usr/local/lib/python3.9/dist-packages (from tensorflow) (1.15.0)\n",
            "Requirement already satisfied: wheel<1.0,>=0.23.0 in /usr/local/lib/python3.9/dist-packages (from astunparse>=1.6.0->tensorflow) (0.40.0)\n",
            "Requirement already satisfied: tensorboard-data-server<0.7.0,>=0.6.0 in /usr/local/lib/python3.9/dist-packages (from tensorboard<2.12,>=2.11->tensorflow) (0.6.1)\n",
            "Requirement already satisfied: google-auth<3,>=1.6.3 in /usr/local/lib/python3.9/dist-packages (from tensorboard<2.12,>=2.11->tensorflow) (2.16.2)\n",
            "Requirement already satisfied: markdown>=2.6.8 in /usr/local/lib/python3.9/dist-packages (from tensorboard<2.12,>=2.11->tensorflow) (3.4.1)\n",
            "Requirement already satisfied: requests<3,>=2.21.0 in /usr/local/lib/python3.9/dist-packages (from tensorboard<2.12,>=2.11->tensorflow) (2.27.1)\n",
            "Requirement already satisfied: google-auth-oauthlib<0.5,>=0.4.1 in /usr/local/lib/python3.9/dist-packages (from tensorboard<2.12,>=2.11->tensorflow) (0.4.6)\n",
            "Requirement already satisfied: tensorboard-plugin-wit>=1.6.0 in /usr/local/lib/python3.9/dist-packages (from tensorboard<2.12,>=2.11->tensorflow) (1.8.1)\n",
            "Requirement already satisfied: werkzeug>=1.0.1 in /usr/local/lib/python3.9/dist-packages (from tensorboard<2.12,>=2.11->tensorflow) (2.2.3)\n",
            "Requirement already satisfied: rsa<5,>=3.1.4 in /usr/local/lib/python3.9/dist-packages (from google-auth<3,>=1.6.3->tensorboard<2.12,>=2.11->tensorflow) (4.9)\n",
            "Requirement already satisfied: cachetools<6.0,>=2.0.0 in /usr/local/lib/python3.9/dist-packages (from google-auth<3,>=1.6.3->tensorboard<2.12,>=2.11->tensorflow) (5.3.0)\n",
            "Requirement already satisfied: pyasn1-modules>=0.2.1 in /usr/local/lib/python3.9/dist-packages (from google-auth<3,>=1.6.3->tensorboard<2.12,>=2.11->tensorflow) (0.2.8)\n",
            "Requirement already satisfied: requests-oauthlib>=0.7.0 in /usr/local/lib/python3.9/dist-packages (from google-auth-oauthlib<0.5,>=0.4.1->tensorboard<2.12,>=2.11->tensorflow) (1.3.1)\n",
            "Requirement already satisfied: importlib-metadata>=4.4 in /usr/local/lib/python3.9/dist-packages (from markdown>=2.6.8->tensorboard<2.12,>=2.11->tensorflow) (6.0.0)\n",
            "Requirement already satisfied: idna<4,>=2.5 in /usr/local/lib/python3.9/dist-packages (from requests<3,>=2.21.0->tensorboard<2.12,>=2.11->tensorflow) (3.4)\n",
            "Requirement already satisfied: certifi>=2017.4.17 in /usr/local/lib/python3.9/dist-packages (from requests<3,>=2.21.0->tensorboard<2.12,>=2.11->tensorflow) (2022.12.7)\n",
            "Requirement already satisfied: charset-normalizer~=2.0.0 in /usr/local/lib/python3.9/dist-packages (from requests<3,>=2.21.0->tensorboard<2.12,>=2.11->tensorflow) (2.0.12)\n",
            "Requirement already satisfied: urllib3<1.27,>=1.21.1 in /usr/local/lib/python3.9/dist-packages (from requests<3,>=2.21.0->tensorboard<2.12,>=2.11->tensorflow) (1.26.15)\n",
            "Requirement already satisfied: MarkupSafe>=2.1.1 in /usr/local/lib/python3.9/dist-packages (from werkzeug>=1.0.1->tensorboard<2.12,>=2.11->tensorflow) (2.1.2)\n",
            "Requirement already satisfied: zipp>=0.5 in /usr/local/lib/python3.9/dist-packages (from importlib-metadata>=4.4->markdown>=2.6.8->tensorboard<2.12,>=2.11->tensorflow) (3.15.0)\n",
            "Requirement already satisfied: pyasn1<0.5.0,>=0.4.6 in /usr/local/lib/python3.9/dist-packages (from pyasn1-modules>=0.2.1->google-auth<3,>=1.6.3->tensorboard<2.12,>=2.11->tensorflow) (0.4.8)\n",
            "Requirement already satisfied: oauthlib>=3.0.0 in /usr/local/lib/python3.9/dist-packages (from requests-oauthlib>=0.7.0->google-auth-oauthlib<0.5,>=0.4.1->tensorboard<2.12,>=2.11->tensorflow) (3.2.2)\n",
            "GPU: True\n"
          ]
        }
      ],
      "source": [
        "from __future__ import print_function, division\n",
        "!pip install tensorflow\n",
        "\n",
        "import numpy as np\n",
        "import tensorflow as tf\n",
        "import tensorflow.keras as keras\n",
        "import torch\n",
        "from tensorflow.keras.datasets import cifar10\n",
        "from tensorflow.keras.layers import Dense, Flatten, Dropout\n",
        "from tensorflow.keras.models import Model, Sequential\n",
        "\n",
        "import torch.backends.cudnn as cudnn\n",
        "cudnn.benchmark = True\n",
        "print(\"GPU: \" + str(torch.cuda.is_available()))"
      ]
    },
    {
      "cell_type": "code",
      "execution_count": 2,
      "metadata": {
        "id": "tF6YQ8xk82vF",
        "colab": {
          "base_uri": "https://localhost:8080/"
        },
        "outputId": "aa1c4aaf-cba5-4d48-dded-8ee6e1ea2bc8"
      },
      "outputs": [
        {
          "output_type": "stream",
          "name": "stdout",
          "text": [
            "Downloading data from https://www.cs.toronto.edu/~kriz/cifar-10-python.tar.gz\n",
            "170498071/170498071 [==============================] - 13s 0us/step\n"
          ]
        }
      ],
      "source": [
        "import tensorflow as tf\n",
        "from tensorflow.keras.datasets import cifar10\n",
        "\n",
        "# Load the CIFAR100 dataset\n",
        "(x_train, y_train), (x_test, y_test) = cifar10.load_data()\n",
        "\n",
        "# Convert pixel values to float data type and normalize the data\n",
        "x_train = x_train.astype('float32')\n",
        "x_test = x_test.astype('float32')\n",
        "\n",
        "data = []\n",
        "data.extend(x_train)\n",
        "data.extend(x_test)\n",
        "data_min = np.min(data, axis=(1,2), keepdims=True)\n",
        "data_max = np.max(data, axis=(1,2), keepdims=True)\n",
        "\n",
        "scaled_data = (data - data_min) / (data_max - data_min)\n",
        "\n",
        "#push normalized data back to x_train and x_test\n",
        "x_train = scaled_data[:len(x_train)]\n",
        "x_test = scaled_data[len(x_train):]\n",
        "\n",
        "# make labels categorical\n",
        "num_classes = 10\n",
        "y_train = keras.utils.to_categorical(y_train, num_classes)\n",
        "y_test = keras.utils.to_categorical(y_test, num_classes)\n"
      ]
    },
    {
      "cell_type": "code",
      "execution_count": 3,
      "metadata": {
        "id": "5KOX1_x-9RRr",
        "colab": {
          "base_uri": "https://localhost:8080/"
        },
        "outputId": "0a6a8100-857d-429e-bad6-e0994344ba0b"
      },
      "outputs": [
        {
          "output_type": "stream",
          "name": "stdout",
          "text": [
            "Downloading data from https://storage.googleapis.com/tensorflow/keras-applications/vgg16/vgg16_weights_tf_dim_ordering_tf_kernels_notop.h5\n",
            "58889256/58889256 [==============================] - 3s 0us/step\n",
            "<class 'keras.engine.functional.Functional'>\n",
            "<class 'keras.engine.functional.Functional'>\n"
          ]
        }
      ],
      "source": [
        "#from chat gpt\n",
        "from tensorflow.keras.applications.vgg16 import VGG16\n",
        "# Load VGG16 model with pretrained weights\n",
        "vgg16 = VGG16(weights='imagenet', include_top=False, input_shape=(32, 32, 3))\n",
        "x = vgg16.output\n",
        "x = Flatten()(x)\n",
        "x = Dense(512, activation='relu')(x)\n",
        "predictions = Dense(10, activation='softmax')(x)\n",
        "\n",
        "model = Model(inputs=vgg16.input, outputs=predictions)"
      ]
    },
    {
      "cell_type": "code",
      "execution_count": 4,
      "metadata": {
        "colab": {
          "base_uri": "https://localhost:8080/"
        },
        "id": "xI-l6FdN9pxo",
        "outputId": "55733a05-e031-43ad-b335-55dfa063b654"
      },
      "outputs": [
        {
          "output_type": "stream",
          "name": "stdout",
          "text": [
            "Epoch 1/10\n",
            "500/500 [==============================] - 45s 49ms/step - loss: 1.9578 - accuracy: 0.2255 - val_loss: 1.5979 - val_accuracy: 0.3376\n",
            "Epoch 2/10\n",
            "500/500 [==============================] - 26s 52ms/step - loss: 1.3900 - accuracy: 0.4701 - val_loss: 1.1711 - val_accuracy: 0.5924\n",
            "Epoch 3/10\n",
            "500/500 [==============================] - 25s 49ms/step - loss: 0.9919 - accuracy: 0.6599 - val_loss: 0.9189 - val_accuracy: 0.6966\n",
            "Epoch 4/10\n",
            "500/500 [==============================] - 24s 49ms/step - loss: 0.7775 - accuracy: 0.7392 - val_loss: 0.9255 - val_accuracy: 0.7066\n",
            "Epoch 5/10\n",
            "500/500 [==============================] - 26s 52ms/step - loss: 0.6314 - accuracy: 0.7912 - val_loss: 0.8386 - val_accuracy: 0.7286\n",
            "Epoch 6/10\n",
            "500/500 [==============================] - 25s 49ms/step - loss: 0.5337 - accuracy: 0.8255 - val_loss: 0.6947 - val_accuracy: 0.7775\n",
            "Epoch 7/10\n",
            "500/500 [==============================] - 24s 49ms/step - loss: 0.4557 - accuracy: 0.8501 - val_loss: 0.6722 - val_accuracy: 0.7916\n",
            "Epoch 8/10\n",
            "500/500 [==============================] - 26s 51ms/step - loss: 0.3848 - accuracy: 0.8748 - val_loss: 0.6329 - val_accuracy: 0.8043\n",
            "Epoch 9/10\n",
            "500/500 [==============================] - 25s 49ms/step - loss: 0.3436 - accuracy: 0.8888 - val_loss: 0.6539 - val_accuracy: 0.7981\n",
            "Epoch 10/10\n",
            "500/500 [==============================] - 25s 49ms/step - loss: 0.2863 - accuracy: 0.9066 - val_loss: 0.7192 - val_accuracy: 0.8046\n",
            "Model: \"model\"\n",
            "_________________________________________________________________\n",
            " Layer (type)                Output Shape              Param #   \n",
            "=================================================================\n",
            " input_1 (InputLayer)        [(None, 32, 32, 3)]       0         \n",
            "                                                                 \n",
            " block1_conv1 (Conv2D)       (None, 32, 32, 64)        1792      \n",
            "                                                                 \n",
            " block1_conv2 (Conv2D)       (None, 32, 32, 64)        36928     \n",
            "                                                                 \n",
            " block1_pool (MaxPooling2D)  (None, 16, 16, 64)        0         \n",
            "                                                                 \n",
            " block2_conv1 (Conv2D)       (None, 16, 16, 128)       73856     \n",
            "                                                                 \n",
            " block2_conv2 (Conv2D)       (None, 16, 16, 128)       147584    \n",
            "                                                                 \n",
            " block2_pool (MaxPooling2D)  (None, 8, 8, 128)         0         \n",
            "                                                                 \n",
            " block3_conv1 (Conv2D)       (None, 8, 8, 256)         295168    \n",
            "                                                                 \n",
            " block3_conv2 (Conv2D)       (None, 8, 8, 256)         590080    \n",
            "                                                                 \n",
            " block3_conv3 (Conv2D)       (None, 8, 8, 256)         590080    \n",
            "                                                                 \n",
            " block3_pool (MaxPooling2D)  (None, 4, 4, 256)         0         \n",
            "                                                                 \n",
            " block4_conv1 (Conv2D)       (None, 4, 4, 512)         1180160   \n",
            "                                                                 \n",
            " block4_conv2 (Conv2D)       (None, 4, 4, 512)         2359808   \n",
            "                                                                 \n",
            " block4_conv3 (Conv2D)       (None, 4, 4, 512)         2359808   \n",
            "                                                                 \n",
            " block4_pool (MaxPooling2D)  (None, 2, 2, 512)         0         \n",
            "                                                                 \n",
            " block5_conv1 (Conv2D)       (None, 2, 2, 512)         2359808   \n",
            "                                                                 \n",
            " block5_conv2 (Conv2D)       (None, 2, 2, 512)         2359808   \n",
            "                                                                 \n",
            " block5_conv3 (Conv2D)       (None, 2, 2, 512)         2359808   \n",
            "                                                                 \n",
            " block5_pool (MaxPooling2D)  (None, 1, 1, 512)         0         \n",
            "                                                                 \n",
            " flatten (Flatten)           (None, 512)               0         \n",
            "                                                                 \n",
            " dense (Dense)               (None, 512)               262656    \n",
            "                                                                 \n",
            " dense_1 (Dense)             (None, 10)                5130      \n",
            "                                                                 \n",
            "=================================================================\n",
            "Total params: 14,982,474\n",
            "Trainable params: 14,982,474\n",
            "Non-trainable params: 0\n",
            "_________________________________________________________________\n"
          ]
        }
      ],
      "source": [
        "# Compile the model\n",
        "model.compile(optimizer='adam', loss='categorical_crossentropy', metrics=['accuracy'])\n",
        "\n",
        "#go to github and use a simple resnet/alexnet as a benchmark  \n",
        "\n",
        "history = model.fit(x_train, y_train, batch_size= 100, epochs=10, validation_data=(x_test, y_test))\n",
        "\n",
        "model.summary()"
      ]
    },
    {
      "cell_type": "code",
      "source": [
        "train_acc = history.history['accuracy']\n",
        "val_acc = history.history['val_accuracy']\n",
        "train_loss = history.history['loss']\n",
        "val_loss = history.history['val_loss']\n",
        "import matplotlib.pyplot as plt\n",
        "\n",
        "plt.plot(train_acc)\n",
        "plt.plot(val_acc)\n",
        "plt.title('Model Accuracy')\n",
        "plt.ylabel('Accuracy')\n",
        "plt.xlabel('Epoch')\n",
        "plt.legend(['Train', 'Validation'], loc='upper left')\n",
        "plt.show()\n",
        "\n",
        "plt.plot(train_loss)\n",
        "plt.plot(val_loss)\n",
        "plt.title('Model Loss')\n",
        "plt.ylabel('Loss')\n",
        "plt.xlabel('Epoch')\n",
        "plt.legend(['Train', 'Validation'], loc='upper left')\n",
        "plt.show()"
      ],
      "metadata": {
        "colab": {
          "base_uri": "https://localhost:8080/",
          "height": 573
        },
        "id": "OwFLWGbumfQX",
        "outputId": "28d535d9-03d4-48e8-f4a0-eccee5847cfb"
      },
      "execution_count": 5,
      "outputs": [
        {
          "output_type": "display_data",
          "data": {
            "text/plain": [
              "<Figure size 432x288 with 1 Axes>"
            ],
            "image/png": "[encoded data removed]"
          },
          "metadata": {
            "needs_background": "light"
          }
        },
        {
          "output_type": "display_data",
          "data": {
            "text/plain": [
              "<Figure size 432x288 with 1 Axes>"
            ],
            "image/png": "[encoded data removed]"
          },
          "metadata": {
            "needs_background": "light"
          }
        }
      ]
    },
    {
      "cell_type": "code",
      "execution_count": 6,
      "metadata": {
        "colab": {
          "base_uri": "https://localhost:8080/"
        },
        "id": "_02y-8Iw9qvi",
        "outputId": "0291ab05-4ecf-45b5-c924-10667625af46"
      },
      "outputs": [
        {
          "output_type": "stream",
          "name": "stdout",
          "text": [
            "1563/1563 [==============================] - 11s 7ms/step\n",
            "Accuracy on training data: 0.9295600056648254 \n",
            " Error on training data: 0.07043999433517456\n",
            "313/313 [==============================] - 2s 7ms/step\n",
            "Accuracy on test data: 0.8046000003814697 \n",
            " Error on test data: 0.19539999961853027\n"
          ]
        }
      ],
      "source": [
        "pred_train= model.predict(x_train)\n",
        "scores = model.evaluate(x_train, y_train, verbose=0)\n",
        "print('Accuracy on training data: {} \\n Error on training data: {}'.format(scores[1], 1 - scores[1]))   \n",
        " \n",
        "pred_test= model.predict(x_test)\n",
        "scores2 = model.evaluate(x_test, y_test, verbose=0)\n",
        "print('Accuracy on test data: {} \\n Error on test data: {}'.format(scores2[1], 1 - scores2[1])) "
      ]
    },
    {
      "cell_type": "code",
      "source": [
        "# BONUS Deep features + MLP classification task\n",
        "# 1.\tTrain DCNN\n",
        "# 2.\tCut off the FC layers (equivalent to MLP)\n",
        "# 3.\tReplace the old FC layers with a generic MLP\n",
        "# 4.\tRetrain the model\n",
        "\n",
        "\n",
        "# Unfortunately I cannot cut off the FC layers for the Functional type model that\n",
        "# I am currently relying on. So I built a Sequential Model that copied the VGG16\n",
        "# convolutional layers and the slapped some FC layers on the end."
      ],
      "metadata": {
        "id": "3TEs4TYkMxtZ"
      },
      "execution_count": 7,
      "outputs": []
    },
    {
      "cell_type": "code",
      "source": [
        "# Create a new sequential model\n",
        "new_model = Sequential()\n",
        "\n",
        "# Add the convolutional layers of the VGG16 model\n",
        "for layer in vgg16.layers[:-4]:\n",
        "    new_model.add(layer)\n",
        "\n",
        "# Add fully connected layers\n",
        "new_model.add(Flatten())\n",
        "new_model.add(Dense(4096, activation='relu'))\n",
        "new_model.add(Dropout(0.5))\n",
        "new_model.add(Dense(4096, activation='relu'))\n",
        "new_model.add(Dropout(0.5))\n",
        "new_model.add(Dense(10, activation='softmax'))"
      ],
      "metadata": {
        "id": "EnvXbJRZlqcJ"
      },
      "execution_count": 8,
      "outputs": []
    },
    {
      "cell_type": "code",
      "source": [
        "# Compile the model\n",
        "new_model.compile(optimizer='adam', loss='categorical_crossentropy', metrics=['accuracy'])\n",
        "\n",
        "#go to github and use a simple resnet/alexnet as a benchmark  \n",
        "\n",
        "history = new_model.fit(x_train, y_train, batch_size= 100, epochs=10, validation_data=(x_test, y_test))\n",
        "\n",
        "new_model.summary()"
      ],
      "metadata": {
        "colab": {
          "base_uri": "https://localhost:8080/"
        },
        "id": "Iv3INAmyM7I1",
        "outputId": "d436603e-3007-4f95-ceef-7bb9894e6353"
      },
      "execution_count": null,
      "outputs": [
        {
          "output_type": "stream",
          "name": "stdout",
          "text": [
            "Epoch 1/10\n",
            "500/500 [==============================] - 26s 45ms/step - loss: 0.3313 - accuracy: 0.9024 - val_loss: 0.7994 - val_accuracy: 0.7975\n",
            "Epoch 2/10\n",
            "500/500 [==============================] - 22s 43ms/step - loss: 0.2791 - accuracy: 0.9168 - val_loss: 0.8218 - val_accuracy: 0.8070\n",
            "Epoch 3/10\n",
            "500/500 [==============================] - 22s 43ms/step - loss: 0.2635 - accuracy: 0.9197 - val_loss: 0.8186 - val_accuracy: 0.7909\n",
            "Epoch 4/10\n",
            "500/500 [==============================] - 22s 43ms/step - loss: 0.2488 - accuracy: 0.9240 - val_loss: 0.7444 - val_accuracy: 0.7993\n",
            "Epoch 5/10\n",
            "222/500 [============>.................] - ETA: 11s - loss: 0.2391 - accuracy: 0.9278"
          ]
        }
      ]
    },
    {
      "cell_type": "code",
      "source": [
        "train_acc = history.history['accuracy']\n",
        "val_acc = history.history['val_accuracy']\n",
        "train_loss = history.history['loss']\n",
        "val_loss = history.history['val_loss']\n",
        "import matplotlib.pyplot as plt\n",
        "\n",
        "plt.plot(train_acc)\n",
        "plt.plot(val_acc)\n",
        "plt.title('Model Accuracy')\n",
        "plt.ylabel('Accuracy')\n",
        "plt.xlabel('Epoch')\n",
        "plt.legend(['Train', 'Validation'], loc='upper left')\n",
        "plt.show()\n",
        "\n",
        "plt.plot(train_loss)\n",
        "plt.plot(val_loss)\n",
        "plt.title('Model Loss')\n",
        "plt.ylabel('Loss')\n",
        "plt.xlabel('Epoch')\n",
        "plt.legend(['Train', 'Validation'], loc='upper left')\n",
        "plt.show()"
      ],
      "metadata": {
        "id": "f5g8AuH3U0RD"
      },
      "execution_count": null,
      "outputs": []
    },
    {
      "cell_type": "code",
      "source": [
        "pred_train= new_model.predict(x_train)\n",
        "scores = new_model.evaluate(x_train, y_train, verbose=0)\n",
        "print('Accuracy on training data: {} \\n Error on training data: {}'.format(scores[1], 1 - scores[1]))   \n",
        " \n",
        "pred_test= new_model.predict(x_test)\n",
        "scores2 = new_model.evaluate(x_test, y_test, verbose=0)\n",
        "print('Accuracy on test data: {} \\n Error on test data: {}'.format(scores2[1], 1 - scores2[1])) "
      ],
      "metadata": {
        "id": "vT9qprG6U3WJ"
      },
      "execution_count": null,
      "outputs": []
    },
    {
      "cell_type": "code",
      "source": [
        "# BONUS SIFT features + MLP classification task"
      ],
      "metadata": {
        "id": "KPbc84Bvrr9P"
      },
      "execution_count": null,
      "outputs": []
    },
    {
      "cell_type": "code",
      "source": [
        "import cv2, os\n",
        "import numpy as np\n",
        "import pandas as pd\n",
        "import matplotlib.pyplot as plt\n",
        "from sklearn.cluster import MiniBatchKMeans\n",
        "from sklearn.neural_network import MLPClassifier\n",
        "from sklearn.metrics import classification_report\n",
        "from itertools import chain\n",
        "from PIL import Image"
      ],
      "metadata": {
        "id": "srSHkRWYtder"
      },
      "execution_count": null,
      "outputs": []
    },
    {
      "cell_type": "code",
      "source": [
        "print(len(x_train), len(x_test))"
      ],
      "metadata": {
        "id": "RGQiVQdo_DyW"
      },
      "execution_count": null,
      "outputs": []
    },
    {
      "cell_type": "code",
      "source": [
        "# Generate SIFT Features\n",
        "print('generating sift feautures')\n",
        "sift = cv2.SIFT_create()\n",
        "dico = []\n",
        "\n",
        "for img in chain(x_train, x_test):\n",
        "\n",
        "    img = (img * 255).astype(np.uint8) # convert to 8-bit integers\n",
        "    kp, des = sift.detectAndCompute(img, None)\n",
        "    if des is not None:\n",
        "      for d in des:\n",
        "          dico.append(d)\n",
        "\n",
        "batch_size = len(x_train) * 3\n",
        "\n",
        "kmeans = MiniBatchKMeans(n_clusters=10*10, batch_size=batch_size, verbose=1).fit(dico)\n",
        "\n",
        "\n",
        "kmeans.verbose = False"
      ],
      "metadata": {
        "id": "o14QtOVh9Gd1"
      },
      "execution_count": null,
      "outputs": []
    },
    {
      "cell_type": "code",
      "source": [
        "histo_list = []\n",
        "\n",
        "for img in chain(x_train, x_test):\n",
        "    img = (img * 255).astype(np.uint8) # convert to 8-bit integers\n",
        "    kp, des = sift.detectAndCompute(img, None)\n",
        "    histo = np.zeros(10*10)\n",
        "    nkp = np.size(kp)\n",
        "\n",
        "    if des is not None:\n",
        "      for d in des:\n",
        "          idx = kmeans.predict([d])\n",
        "          histo[idx] += 1/nkp # Because we need normalized histograms, I prefered to add 1/nkp directly\n",
        "\n",
        "    histo_list.append(histo)\n",
        "\n",
        "X = np.array(histo_list)"
      ],
      "metadata": {
        "id": "Ehfuf6o1sdle"
      },
      "execution_count": null,
      "outputs": []
    },
    {
      "cell_type": "code",
      "source": [
        "mlp = MLPClassifier(verbose=True, max_iter=600000)\n",
        "mlp.fit(X[:50000], y_train)\n",
        "\n",
        "predicitions = mlp.predict(X[50000:])\n",
        "print(classification_report(y_test, predicitions))\n",
        "\n",
        "fig, axes = plt.subplots(1, 1)\n",
        "axes.plot(mlp.loss_curve_, 'o-')\n",
        "axes.set_xlabel(\"number of iteration\")\n",
        "axes.set_ylabel(\"loss\")\n",
        "plt.show(block=True)"
      ],
      "metadata": {
        "id": "xUxr5heGuyrK"
      },
      "execution_count": null,
      "outputs": []
    }
  ],
  "metadata": {
    "accelerator": "GPU",
    "colab": {
      "provenance": []
    },
    "gpuClass": "standard",
    "kernelspec": {
      "display_name": "Python 3",
      "name": "python3"
    },
    "language_info": {
      "name": "python"
    }
  },
  "nbformat": 4,
  "nbformat_minor": 0
}